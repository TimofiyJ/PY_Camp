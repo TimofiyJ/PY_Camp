{
 "cells": [
  {
   "cell_type": "code",
   "execution_count": 68,
   "metadata": {},
   "outputs": [
    {
     "name": "stdout",
     "output_type": "stream",
     "text": [
      "6 C\n",
      "7 A\n",
      "8 B\n",
      "8 F\n",
      "8 G\n",
      "8 H\n",
      "9 E\n",
      "10 D\n"
     ]
    }
   ],
   "source": [
    "from itertools import permutations\n",
    "\n",
    "class Child:\n",
    "    def __init__(self, name, age, gender):\n",
    "        self.name = name\n",
    "        self.age = age\n",
    "        self.gender = gender\n",
    "\n",
    "class House:\n",
    "    def __init__(self, capacity,name):\n",
    "        self.capacity = capacity\n",
    "        self.name = name\n",
    "        self.children = []\n",
    "    def __str__(self):\n",
    "        return str(str(self.capacity) + \" \" + str(self.name))\n",
    "\n",
    "\n",
    "# Приклад використання\n",
    "children = [\n",
    "    Child(\"John\", 6, \"boy\"),\n",
    "    Child(\"Emma\", 6, \"girl\"),\n",
    "    Child(\"Tim\", 6, \"boy\"),\n",
    "    Child(\"Sophia\", 6, \"girl\"),\n",
    "    Child(\"Dan\", 6, \"boy\"),\n",
    "    Child(\"Nadia\", 7, \"girl\"),\n",
    "    Child(\"Michael\", 7, \"boy\"),\n",
    "    Child(\"Inna\", 7, \"girl\"),\n",
    "    Child(\"Tom\", 7, \"boy\"),\n",
    "    Child(\"Lora\", 8, \"girl\"),\n",
    "    Child(\"Jim\", 8, \"boy\"),\n",
    "    Child(\"Katya\", 9, \"girl\"),\n",
    "    Child(\"John\", 6, \"boy\"),\n",
    "    Child(\"Emma\", 6, \"girl\"),\n",
    "    Child(\"Tim\", 6, \"boy\"),\n",
    "    Child(\"Sophia\", 6, \"girl\"),\n",
    "    Child(\"Dan\", 6, \"boy\"),\n",
    "    Child(\"Nadia\", 7, \"girl\"),\n",
    "    Child(\"Michael\", 7, \"boy\"),\n",
    "    Child(\"Inna\", 7, \"girl\"),\n",
    "    Child(\"Tom\", 7, \"boy\"),\n",
    "    Child(\"Lora\", 8, \"girl\"),\n",
    "    Child(\"Jim\", 8, \"boy\"),\n",
    "    Child(\"Katya\", 9, \"girl\"),\n",
    "    Child(\"John\", 9, \"boy\"),\n",
    "    Child(\"Emma\", 9, \"girl\"),\n",
    "    Child(\"Tim\", 9, \"boy\"),\n",
    "    Child(\"Sophia\", 10, \"girl\"),\n",
    "    Child(\"Dan\", 10, \"boy\"),\n",
    "    Child(\"Nadia\", 10, \"girl\"),\n",
    "    Child(\"Michael\", 11, \"boy\"),\n",
    "    Child(\"Inna\", 11, \"girl\"),\n",
    "    Child(\"Tom\", 11, \"boy\"),\n",
    "    Child(\"Lora\", 11, \"girl\"),\n",
    "    Child(\"Jim\", 11, \"boy\"),\n",
    "    Child(\"Katya\", 11, \"girl\"),\n",
    "    Child(\"Lora\", 12, \"girl\"),\n",
    "    Child(\"Jim\", 12, \"boy\"),\n",
    "    Child(\"Katya\", 12, \"girl\"),\n",
    "    Child(\"John\", 12, \"boy\"),\n",
    "    Child(\"Emma\", 13, \"girl\"),\n",
    "    Child(\"Tim\", 13, \"boy\"),\n",
    "    Child(\"Sophia\", 13, \"girl\"),\n",
    "    Child(\"Dan\", 13, \"boy\"),\n",
    "    Child(\"Nadia\", 14, \"girl\"),\n",
    "    Child(\"Michael\", 14, \"boy\"),\n",
    "    Child(\"Inna\", 15, \"girl\"),\n",
    "    Child(\"Tom\", 15, \"boy\"),\n",
    "    Child(\"Lora\", 15, \"girl\"),\n",
    "    Child(\"Jim\", 15, \"boy\"),\n",
    "    Child(\"Katya\", 15, \"girl\"),\n",
    "    # Додайте більше дітей, якщо потрібно\n",
    "]\n",
    "houses = [House(7,\"A\"),House(8,\"B\"),House(6,\"C\"),House(10,\"D\"),House(9,\"E\"),House(8,\"F\"),House(8,\"G\"),House(8,\"H\")]\n",
    "houses.sort(key=lambda x: x.capacity)\n",
    "for house in houses:\n",
    "    print(house)\n"
   ]
  },
  {
   "cell_type": "code",
   "execution_count": 69,
   "metadata": {},
   "outputs": [],
   "source": [
    "boys = [c for c in children if c.gender == \"boy\"]\n",
    "girls = [c for c in children if c.gender == \"girl\"]"
   ]
  },
  {
   "cell_type": "code",
   "execution_count": 57,
   "metadata": {},
   "outputs": [
    {
     "name": "stdout",
     "output_type": "stream",
     "text": [
      "{6: 14, 10: 8, 14: 3}\n"
     ]
    }
   ],
   "source": [
    "age_b = [c.age for c in boys]\n",
    "\n",
    "set_numbers = list(set(age_b))\n",
    "selected_numbers = [set_numbers[0]]\n",
    "i = 0 \n",
    "while i!=len(set_numbers):\n",
    "    k = selected_numbers[-1]\n",
    "    if abs(k-set_numbers[i])>3:\n",
    "        selected_numbers.append(set_numbers[i])\n",
    "    i=i+1\n",
    " \n",
    "age_groups_b = {}\n",
    "\n",
    "for age in selected_numbers:\n",
    "    age_groups_b[age]=0\n",
    "    for a in age_b:\n",
    "        if (a-age)<=3 and (a-age)>=0:\n",
    "            age_groups_b[age] += 1\n",
    "print(age_groups_b)"
   ]
  },
  {
   "cell_type": "code",
   "execution_count": 70,
   "metadata": {},
   "outputs": [
    {
     "name": "stdout",
     "output_type": "stream",
     "text": [
      "{6: 13, 10: 9, 14: 4}\n"
     ]
    }
   ],
   "source": [
    "age_g = [c.age for c in girls]\n",
    "\n",
    "set_numbers_g = list(set(age_g))\n",
    "selected_numbers_g = [set_numbers_g[0]]\n",
    "i = 0 \n",
    "while i!=len(set_numbers_g):\n",
    "    k = selected_numbers_g[-1]\n",
    "    if abs(k-set_numbers_g[i])>3:\n",
    "        selected_numbers_g.append(set_numbers_g[i])\n",
    "    i=i+1\n",
    " \n",
    "age_groups_g = {}\n",
    "\n",
    "for age in selected_numbers_g:\n",
    "    age_groups_g[age]=0\n",
    "    for a in age_g:\n",
    "        if (a-age)<=3 and (a-age)>=0:\n",
    "            age_groups_g[age] += 1\n",
    "print(age_groups_g)"
   ]
  },
  {
   "cell_type": "code",
   "execution_count": 71,
   "metadata": {},
   "outputs": [],
   "source": [
    "age_groups_b = dict(sorted(age_groups_b.items(), key=lambda item: item[0]))\n",
    "age_groups_g = dict(sorted(age_groups_g.items(), key=lambda item: item[0]))\n",
    "\n"
   ]
  },
  {
   "cell_type": "code",
   "execution_count": 72,
   "metadata": {},
   "outputs": [
    {
     "name": "stdout",
     "output_type": "stream",
     "text": [
      "Houses with total capacity 14: ['C', 'B']\n",
      "Houses with total capacity 8: ['F']\n",
      "Houses with total capacity 3: ['A']\n",
      "Houses with total capacity 13: ['G', 'H']\n",
      "Houses with total capacity 9: ['E']\n",
      "Houses with total capacity 4: ['D']\n"
     ]
    }
   ],
   "source": [
    "from itertools import combinations\n",
    "\n",
    "def find_houses_with_capacity(houses, target_capacity, used_houses=set()):\n",
    "    # Iterate over all possible combinations of houses\n",
    "    for i in range(1, len(houses) + 1):\n",
    "        for combination in combinations(houses, i):\n",
    "            # Check if any house in the combination has already been used\n",
    "            if any(house in used_houses for house in combination):\n",
    "                continue\n",
    "            \n",
    "            # Calculate the total capacity of the combination of houses\n",
    "            total_capacity = sum(house.capacity for house in combination)\n",
    "            if total_capacity >= target_capacity:\n",
    "                # Update the set of used houses\n",
    "                used_houses.update(combination)\n",
    "                return combination  # Return the combination if the total capacity is sufficient\n",
    "    return None  # Return None if no combination is found\n",
    "\n",
    "# Sort age_groups_b dictionary by its keys\n",
    "age_groups_b = dict(sorted(age_groups_b.items(), key=lambda item: item[0]))\n",
    "age_groups_g = dict(sorted(age_groups_g.items(), key=lambda item: item[0]))\n",
    "\n",
    "# Set to keep track of used houses\n",
    "used_houses = set()\n",
    "\n",
    "# Iterate over the sorted age groups and find houses with corresponding capacities\n",
    "for capacity in age_groups_b.values():\n",
    "    result = find_houses_with_capacity(houses, capacity, used_houses)\n",
    "    if result:\n",
    "        print(f\"Houses with total capacity {capacity}: {[house.name for house in result]}\")\n",
    "    else:\n",
    "        print(f\"No combination of houses found with total capacity {capacity}.\")\n",
    "for capacity in age_groups_g.values():\n",
    "    result = find_houses_with_capacity(houses, capacity, used_houses)\n",
    "    if result:\n",
    "        print(f\"Houses with total capacity {capacity}: {[house.name for house in result]}\")\n",
    "    else:\n",
    "        print(f\"No combination of houses found with total capacity {capacity}.\")\n",
    "\n"
   ]
  },
  {
   "cell_type": "code",
   "execution_count": 30,
   "metadata": {},
   "outputs": [
    {
     "name": "stdout",
     "output_type": "stream",
     "text": [
      "0\n",
      "3\n",
      "6\n",
      "9\n"
     ]
    }
   ],
   "source": []
  },
  {
   "cell_type": "code",
   "execution_count": 39,
   "metadata": {},
   "outputs": [
    {
     "name": "stdout",
     "output_type": "stream",
     "text": [
      "[('Marichka',), ('Leleka',), ('Nika',), ('Tim',), ('Nas',)]\n",
      "['Tim', 'Nas', '2024-04-07', 'm']\n",
      "['Tim Nas 0 m', 'Ver Kho 0 f']\n",
      "[INFO] PostgreSQL cursor closed\n",
      "[INFO] PostgreSQL connection closed\n"
     ]
    }
   ],
   "source": [
    "from flask import Flask\n",
    "import psycopg2\n",
    "from flask import request\n",
    "from models import House,Child\n",
    "from config import host, user, password, db_name\n",
    "from datetime import datetime\n",
    "\n",
    "def calculate_age(birth_date):\n",
    "    birth_date = datetime.strptime(birth_date, '%Y-%m-%d')\n",
    "    today = datetime.today()\n",
    "    age = today.year - birth_date.year - ((today.month, today.day) < (birth_date.month, birth_date.day))\n",
    "    return age\n",
    "\n",
    "\n",
    "def algorithm():\n",
    "    arrival = 1\n",
    "    connection, cursor = db_connect()\n",
    "    cursor.execute('SELECT name FROM \"House\";')\n",
    "    houses_names = cursor.fetchall()\n",
    "    houses = []\n",
    "    for house in houses_names:\n",
    "        cursor.execute(f\"SELECT gethousebeds('{house[0]}')\")\n",
    "        houses.append(House(cursor.fetchone()[0], house[0]))    \n",
    "    cursor.execute(f\"SELECT getarrivalchildren({arrival})\")\n",
    "    children_db = cursor.fetchall()\n",
    "\n",
    "    children = [Child(str(c[0].replace(\"(\",\"\").replace(\")\",\"\").split(\",\")[0])+ \" \" + str(c[0].replace(\"(\",\"\").replace(\")\",\"\").split(\",\")[1]),calculate_age(c[0].replace(\"(\",\"\").replace(\")\",\"\").split(\",\")[2]),c[0].replace(\"(\",\"\").replace(\")\",\"\").split(\",\")[3]) for c in children_db]\n",
    "    print([str(c.name) + \" \" + str(c.age) + \" \" + str(c.gender) for c in children])\n",
    "    db_close(connection, cursor)\n",
    "# DONT FORGET TO USE COMMITS IN CONNECTION\n",
    "def db_connect():\n",
    "    try:\n",
    "        connection = psycopg2.connect(\n",
    "            host=host, user=user, password=password, database=db_name\n",
    "        )\n",
    "        cursor = connection.cursor()\n",
    "        return connection, cursor\n",
    "    except Exception as _ex:\n",
    "        print(\"[INFO] Error while working with PostgreSQL \", _ex)\n",
    "        raise ValueError(\"[ERROR]Couldn't connect to the database, problem: \", _ex)\n",
    "def db_close(connection, cursor):\n",
    "    if cursor:\n",
    "        cursor.close()\n",
    "        print(\"[INFO] PostgreSQL cursor closed\")\n",
    "    if connection:\n",
    "        connection.close()\n",
    "        print(\"[INFO] PostgreSQL connection closed\")\n",
    "\n",
    "algorithm()\n"
   ]
  }
 ],
 "metadata": {
  "kernelspec": {
   "display_name": ".venv",
   "language": "python",
   "name": "python3"
  },
  "language_info": {
   "codemirror_mode": {
    "name": "ipython",
    "version": 3
   },
   "file_extension": ".py",
   "mimetype": "text/x-python",
   "name": "python",
   "nbconvert_exporter": "python",
   "pygments_lexer": "ipython3",
   "version": "3.11.4"
  }
 },
 "nbformat": 4,
 "nbformat_minor": 2
}
